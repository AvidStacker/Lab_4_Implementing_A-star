{
 "cells": [
  {
   "cell_type": "code",
   "execution_count": null,
   "metadata": {
    "colab": {
     "base_uri": "https://localhost:8080/"
    },
    "id": "brwghpVXwtRe",
    "outputId": "b248545c-742b-4671-886d-3ba856a0bc53"
   },
   "outputs": [],
   "source": [
    "%pylab inline"
   ]
  },
  {
   "cell_type": "code",
   "execution_count": null,
   "metadata": {
    "id": "7Wfy0LcawtRk"
   },
   "outputs": [],
   "source": [
    "from pandas import *\n",
    "import numpy\n",
    "import matplotlib"
   ]
  },
  {
   "cell_type": "code",
   "execution_count": null,
   "metadata": {
    "colab": {
     "base_uri": "https://localhost:8080/",
     "height": 447
    },
    "id": "r8__T55nwtRl",
    "outputId": "4b07de00-3569-4b43-c7f8-b15fa7b91964"
   },
   "outputs": [],
   "source": [
    "def make_maze(w, h):\n",
    "    vis = [[0] * w + [1] for _ in range(h)] + [[1] * (w + 1)]\n",
    "    ver = [[\"10\"] * w + ['1'] for _ in range(h)] + [[]]\n",
    "    hor = [[\"11\"] * w + ['1'] for _ in range(h + 1)]\n",
    "\n",
    "    def walk(x, y):\n",
    "        vis[y][x] = 1\n",
    "\n",
    "        d = [(x - 1, y), (x, y + 1), (x + 1, y), (x, y - 1)]\n",
    "        shuffle(d)\n",
    "        for (xx, yy) in d:\n",
    "            if vis[yy][xx]: continue\n",
    "            if xx == x: hor[max(y, yy)][x] = \"10\"\n",
    "            if yy == y: ver[y][max(x, xx)] = \"00\"\n",
    "            walk(xx, yy)\n",
    "\n",
    "    walk(numpy.random.randint(w), numpy.random.randint(h))\n",
    "\n",
    "    s = \"\"\n",
    "    for (a, b) in zip(hor, ver):\n",
    "        s += ''.join(a + ['\\n'] + b + ['\\n'])\n",
    "\n",
    "    M=[]\n",
    "    for line in s.split(\"\\n\"):\n",
    "        if line!=\"\":\n",
    "            R=[]\n",
    "            for e in line:\n",
    "                R.append(int(e))\n",
    "            M.append(R)\n",
    "    return M\n",
    "\n",
    "maze=numpy.array(make_maze(8,8))\n",
    "imshow(maze)\n",
    "\n",
    "print(maze.shape)\n"
   ]
  },
  {
   "cell_type": "code",
   "execution_count": null,
   "metadata": {
    "id": "yvfmXTotwtRm",
    "outputId": "27c67877-582c-4b72-f8b2-91691970ca9d"
   },
   "outputs": [],
   "source": [
    "# Illustration\n",
    "m=numpy.ones((17,17))\n",
    "for i in range(8):\n",
    "    for j in range(8):\n",
    "        m[1+(i*2)][1+(j*2)]=0\n",
    "imshow(m)\n",
    "print(m)"
   ]
  },
  {
   "cell_type": "code",
   "execution_count": null,
   "metadata": {
    "id": "5CofFb5ywtRn"
   },
   "outputs": [],
   "source": [
    "#maze\n",
    "startLocation=[1,1]\n",
    "targetLocation=[15,15]\n"
   ]
  },
  {
   "cell_type": "code",
   "execution_count": null,
   "metadata": {
    "colab": {
     "base_uri": "https://localhost:8080/"
    },
    "id": "0ttNWVBEwtRn",
    "outputId": "1916a9df-a26a-4088-fd46-b340bf940465"
   },
   "outputs": [],
   "source": [
    "maze[1][1]"
   ]
  },
  {
   "cell_type": "code",
   "execution_count": null,
   "metadata": {
    "colab": {
     "base_uri": "https://localhost:8080/"
    },
    "id": "jRLoamOTwtRn",
    "outputId": "3d13cea2-ae70-4628-b3a5-0de18ebf4e93"
   },
   "outputs": [],
   "source": [
    "maze[15][15]"
   ]
  },
  {
   "cell_type": "code",
   "execution_count": null,
   "metadata": {
    "colab": {
     "base_uri": "https://localhost:8080/"
    },
    "id": "KNdkhttZwtRo",
    "outputId": "5f1b4bae-f277-454f-e591-122acb593728"
   },
   "outputs": [],
   "source": []
  },
  {
   "cell_type": "code",
   "execution_count": null,
   "metadata": {
    "id": "2aMTB2oANK2l"
   },
   "outputs": [],
   "source": []
  },
  {
   "cell_type": "code",
   "execution_count": null,
   "metadata": {
    "colab": {
     "base_uri": "https://localhost:8080/"
    },
    "id": "ISTbrP09wtRo",
    "outputId": "7a83395c-31cd-4810-beb0-25301c6dbdc8"
   },
   "outputs": [],
   "source": [
    "def getNeighbors(x,y):\n",
    "    nb=list()\n",
    "    xm=[0,1,0,-1]\n",
    "    ym=[1,0,-1,0]\n",
    "    for i in range(4):\n",
    "        nb.append([x+xm[i],y+ym[i]])\n",
    "    return nb\n",
    "\n",
    "getNeighbors(1,1)"
   ]
  },
  {
   "cell_type": "code",
   "execution_count": null,
   "metadata": {
    "id": "wdKdi7wbwtRp",
    "outputId": "cbe14e81-d41f-4101-d7e0-60b2056dce3b"
   },
   "outputs": [],
   "source": [
    "maze[10][15]=1\n",
    "#imshow(maze)\n",
    "\n",
    "maze[15][8]=1\n",
    "imshow(maze)"
   ]
  },
  {
   "cell_type": "markdown",
   "metadata": {
    "id": "jepwM-dFpx_N"
   },
   "source": [
    "In DFS - Stack (LIFO)\n",
    "\n",
    "---\n",
    "\n",
    "\n",
    "In BFS - Queue (FIFO)\n",
    "\n",
    "---\n",
    "\n",
    "\n",
    "In A* - Priority Queue"
   ]
  },
  {
   "cell_type": "code",
   "execution_count": null,
   "metadata": {
    "colab": {
     "base_uri": "https://localhost:8080/",
     "height": 519
    },
    "id": "aU689eb8wtRr",
    "outputId": "a9497b33-57a5-4339-b3a2-ae8ad5218764"
   },
   "outputs": [],
   "source": [
    "# In DFS - Stack (LIFO), In BFS - Queue (FIFO), In A* - Priority Queue\n",
    "\n",
    "def DFS(maze,startNode,endNode):\n",
    "    frontier=list()\n",
    "    frontier.append(startNode)\n",
    "    explored=list()\n",
    "    while len(frontier)!=0:\n",
    "        currentNode=frontier.pop()\n",
    "        if currentNode in explored:\n",
    "            continue\n",
    "        if currentNode == endNode:\n",
    "            return \"success!\",explored+[targetLocation]\n",
    "        for nb in getNeighbors(currentNode[0],currentNode[1]):\n",
    "            if maze[nb[0]][nb[1]]==0:\n",
    "                frontier.append(nb)\n",
    "        explored.append(currentNode)\n",
    "    return \"failure\",explored\n",
    "\n",
    "imshow(maze)\n",
    "print(startLocation,targetLocation)\n",
    "answer,explored=DFS(maze,startLocation,targetLocation)\n",
    "print(answer)\n",
    "print(explored)\n",
    "#transpose function is used to extract the x and y coordinates of the explored nodes for plotting\n",
    "plot(transpose(explored)[1],transpose(explored)[0],'ow')"
   ]
  },
  {
   "cell_type": "code",
   "execution_count": null,
   "metadata": {},
   "outputs": [],
   "source": []
  },
  {
   "cell_type": "code",
   "execution_count": null,
   "metadata": {
    "colab": {
     "base_uri": "https://localhost:8080/",
     "height": 447
    },
    "id": "7o-5R5rmwtRr",
    "outputId": "aa6cc216-70a3-47f2-deca-2b6f9d6d706c"
   },
   "outputs": [],
   "source": [
    "# Get the shortest path\n",
    "currentLocation=targetLocation\n",
    "path=[]\n",
    "while currentLocation!=startLocation:\n",
    "    path.append(currentLocation)\n",
    "    neighbors=getNeighbors(currentLocation[0],currentLocation[1])\n",
    "    indices=[]\n",
    "    for nb in neighbors:\n",
    "        if nb in explored:\n",
    "            # this gets the shortest node\n",
    "            indices.append(explored.index(nb))\n",
    "    currentLocation=explored[min(indices)]\n",
    "\n",
    "path.append(startLocation)\n",
    "imshow(maze)\n",
    "plot(transpose(path)[1],transpose(path)[0],'or')"
   ]
  },
  {
   "cell_type": "code",
   "execution_count": null,
   "metadata": {
    "colab": {
     "base_uri": "https://localhost:8080/"
    },
    "id": "uhGVzAgFwtRs",
    "outputId": "dbded189-36a9-4058-d6c3-42ae86e48ef3"
   },
   "outputs": [],
   "source": [
    "len(explored)"
   ]
  },
  {
   "cell_type": "code",
   "execution_count": null,
   "metadata": {
    "colab": {
     "base_uri": "https://localhost:8080/",
     "height": 519
    },
    "id": "DGKPTnsSwtRs",
    "outputId": "8a954ce0-71e2-4402-c8ef-00ea36c73341"
   },
   "outputs": [],
   "source": [
    "# BFS\n",
    "from typing import Deque\n",
    "\n",
    "def BFS(maze,startNode,endNode):\n",
    "    frontier=Deque()\n",
    "    frontier.append(startNode)\n",
    "    explored=list()\n",
    "    while len(frontier)!=0:\n",
    "        currentNode=frontier.popleft()\n",
    "        if currentNode in explored:\n",
    "            continue\n",
    "        if currentNode == endNode:\n",
    "            return \"success!\",explored+[targetLocation]\n",
    "        for nb in getNeighbors(currentNode[0],currentNode[1]):\n",
    "            if maze[nb[0]][nb[1]]==0:\n",
    "                frontier.append(nb)\n",
    "        explored.append(currentNode)\n",
    "    return \"failure\",explored\n",
    "\n",
    "imshow(maze)\n",
    "print(startLocation,targetLocation)\n",
    "answer,explored=BFS(maze,startLocation,targetLocation)\n",
    "print(answer)\n",
    "print(explored)\n",
    "plot(transpose(explored)[1],transpose(explored)[0],'ow')"
   ]
  },
  {
   "cell_type": "code",
   "execution_count": null,
   "metadata": {
    "colab": {
     "base_uri": "https://localhost:8080/",
     "height": 447
    },
    "id": "15ZPH2O0wtRt",
    "outputId": "637b866c-5852-4c9a-bb92-fa3a56193ef8"
   },
   "outputs": [],
   "source": [
    "# Get the shortest path\n",
    "currentLocation=targetLocation\n",
    "path=[]\n",
    "while currentLocation!=startLocation:\n",
    "    path.append(currentLocation)\n",
    "    neighbors=getNeighbors(currentLocation[0],currentLocation[1])\n",
    "    indices=[]\n",
    "    for nb in neighbors:\n",
    "        if nb in explored:\n",
    "            indices.append(explored.index(nb))\n",
    "    currentLocation=explored[min(indices)]\n",
    "path.append(startLocation)\n",
    "imshow(maze)\n",
    "plot(transpose(path)[1],transpose(path)[0],'or')"
   ]
  },
  {
   "cell_type": "code",
   "execution_count": null,
   "metadata": {
    "id": "cvXYVeDqwtRt",
    "outputId": "f9dd43d4-df8c-456b-a48f-0a20afa22079"
   },
   "outputs": [],
   "source": [
    "len(explored)"
   ]
  }
 ],
 "metadata": {
  "colab": {
   "provenance": []
  },
  "kernelspec": {
   "display_name": "Python 3 (ipykernel)",
   "language": "python",
   "name": "python3"
  },
  "language_info": {
   "codemirror_mode": {
    "name": "ipython",
    "version": 3
   },
   "file_extension": ".py",
   "mimetype": "text/x-python",
   "name": "python",
   "nbconvert_exporter": "python",
   "pygments_lexer": "ipython3",
   "version": "3.11.3"
  }
 },
 "nbformat": 4,
 "nbformat_minor": 1
}
