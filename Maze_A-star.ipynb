{
 "cells": [
  {
   "cell_type": "code",
   "execution_count": 55,
   "id": "0cc80276-890c-4181-a6e9-c95144b306c9",
   "metadata": {},
   "outputs": [],
   "source": [
    "from pandas import *\n",
    "import numpy\n",
    "import matplotlib.pyplot as plt\n",
    "from random import shuffle  # Import shuffle"
   ]
  },
  {
   "cell_type": "code",
   "execution_count": 56,
   "id": "12102840-531e-40c4-a071-c43d11e73f85",
   "metadata": {},
   "outputs": [
    {
     "name": "stdout",
     "output_type": "stream",
     "text": [
      "(17, 17)\n"
     ]
    },
    {
     "data": {
      "image/png": "[encoded data removed]",
      "text/plain": [
       "<Figure size 640x480 with 1 Axes>"
      ]
     },
     "metadata": {},
     "output_type": "display_data"
    }
   ],
   "source": [
    "def make_maze(w, h):\n",
    "    vis = [[0] * w + [1] for _ in range(h)] + [[1] * (w + 1)]\n",
    "    ver = [[\"10\"] * w + ['1'] for _ in range(h)] + [[]]\n",
    "    hor = [[\"11\"] * w + ['1'] for _ in range(h + 1)]\n",
    "\n",
    "    def walk(x, y):\n",
    "        vis[y][x] = 1\n",
    "\n",
    "        d = [(x - 1, y), (x, y + 1), (x + 1, y), (x, y - 1)]\n",
    "        shuffle(d)\n",
    "        for (xx, yy) in d:\n",
    "            if vis[yy][xx]: continue\n",
    "            if xx == x: hor[max(y, yy)][x] = \"10\"\n",
    "            if yy == y: ver[y][max(x, xx)] = \"00\"\n",
    "            walk(xx, yy)\n",
    "\n",
    "    walk(numpy.random.randint(w), numpy.random.randint(h))\n",
    "\n",
    "    s = \"\"\n",
    "    for (a, b) in zip(hor, ver):\n",
    "        s += ''.join(a + ['\\n'] + b + ['\\n'])\n",
    "\n",
    "    M=[]\n",
    "    for line in s.split(\"\\n\"):\n",
    "        if line!=\"\":\n",
    "            R=[]\n",
    "            for e in line:\n",
    "                R.append(int(e))\n",
    "            M.append(R)\n",
    "    return M\n",
    "\n",
    "maze=numpy.array(make_maze(8,8))\n",
    "plt.imshow(maze)\n",
    "\n",
    "print(maze.shape)"
   ]
  },
  {
   "cell_type": "code",
   "execution_count": 57,
   "id": "463f3dfb-1f7f-47eb-8426-23ad7e6a0509",
   "metadata": {},
   "outputs": [],
   "source": [
    "#maze\n",
    "startLocation=[1,1]\n",
    "targetLocation=[15,15]"
   ]
  },
  {
   "cell_type": "code",
   "execution_count": 58,
   "id": "90fc2fd2-b47f-49d2-85ee-88f773bc9a7b",
   "metadata": {},
   "outputs": [
    {
     "data": {
      "text/plain": [
       "0"
      ]
     },
     "execution_count": 58,
     "metadata": {},
     "output_type": "execute_result"
    }
   ],
   "source": [
    "maze[1][1]"
   ]
  },
  {
   "cell_type": "code",
   "execution_count": 59,
   "id": "f5a599a8-c1c0-4f4c-89f2-10a66d9e021f",
   "metadata": {},
   "outputs": [
    {
     "data": {
      "text/plain": [
       "0"
      ]
     },
     "execution_count": 59,
     "metadata": {},
     "output_type": "execute_result"
    }
   ],
   "source": [
    "maze[15][15] ## Should always output 0 otherwise maze is unsolvable"
   ]
  },
  {
   "cell_type": "code",
   "execution_count": 67,
   "id": "d181adbf-890a-4655-8552-2f956fa389e4",
   "metadata": {},
   "outputs": [
    {
     "data": {
      "text/plain": [
       "[[0, 1], [1, 0], [0, -1], [-1, 0]]"
      ]
     },
     "execution_count": 67,
     "metadata": {},
     "output_type": "execute_result"
    }
   ],
   "source": [
    "def getNeighbors(current, grid):\n",
    "    x, y = current  # Unpack current into x and y\n",
    "    nb = list()\n",
    "    xm = [0, 1, 0, -1]  # Directions: Right, Down, Left, Up\n",
    "    ym = [1, 0, -1, 0]\n",
    "    \n",
    "    for i in range(4):\n",
    "        nx, ny = x + xm[i], y + ym[i]\n",
    "        \n",
    "        # Check if the neighbor is within bounds and is a walkable cell (1)\n",
    "        if 0 <= nx < len(grid) and 0 <= ny < len(grid[0]) and grid[nx][ny] == 1:\n",
    "            nb.append([nx, ny])  # Add valid neighbor\n",
    "    \n",
    "    return nb\n"
   ]
  },
  {
   "cell_type": "code",
   "execution_count": null,
   "id": "d70fb158-5634-4e86-b94f-5fdc53490140",
   "metadata": {},
   "outputs": [],
   "source": [
    "def calculateActualCost(current_node, neighbor_node):\n",
    "    return 1  # Uniform movement cost"
   ]
  },
  {
   "cell_type": "code",
   "execution_count": null,
   "id": "8b917213-49a8-4bbc-85a9-9314cee38860",
   "metadata": {},
   "outputs": [],
   "source": [
    "def calculateHeuristicCost(current_node, goal_node):\n",
    "    x1, y1 = current_node\n",
    "    x2, y2 = goal\n",
    "    return abs(x1 - x2) + abs(y1 - y2)\n",
    "    "
   ]
  },
  {
   "cell_type": "code",
   "execution_count": null,
   "id": "0d0a39c9-64bb-4c28-a5d3-4bb8fa883760",
   "metadata": {},
   "outputs": [],
   "source": [
    "from queue import PriorityQueue\n",
    "\n",
    "def a_star_search(grid, start_pos, goal_pos):\n",
    "    \"\"\"\n",
    "    Perform A* search on a grid.\n",
    "    \n",
    "    Args:\n",
    "        grid: 2D list representing the maze. 0 = wall, 1 = pathway.\n",
    "        start_pos: Tuple (x, y) for the start position.\n",
    "        goal_pos: Tuple (x, y) for the goal position.\n",
    "        \n",
    "    Returns:\n",
    "        A tuple (came_from, cost_so_far) where:\n",
    "            - came_from: Dictionary tracking the path.\n",
    "            - cost_so_far: Dictionary of costs to reach each node.\n",
    "    \"\"\"\n",
    "    # Initialize priority queue, path tracking, and costs\n",
    "    frontier = PriorityQueue()\n",
    "    frontier.put((0, start_pos))  # (priority, node)\n",
    "    came_from = {start_pos: None}\n",
    "    cost_so_far = {start_pos: 0}\n",
    "\n",
    "    while not frontier.empty():\n",
    "        # Get the node with the lowest priority\n",
    "        _, current = frontier.get()\n",
    "\n",
    "        # Stop if we reached the goal\n",
    "        if current == goal_pos:\n",
    "            break\n",
    "\n",
    "        # Explore neighbors\n",
    "        for next in getNeighbors(current, grid):\n",
    "            # Skip walls\n",
    "            if grid[next[0]][next[1]] == 0:\n",
    "                continue\n",
    "\n",
    "            # Calculate new cost\n",
    "            new_cost = cost_so_far[current] + calculateActualCost(current, next)\n",
    "            \n",
    "            # If next is not visited or a cheaper path is found\n",
    "            if next not in cost_so_far or new_cost < cost_so_far[next]:\n",
    "                cost_so_far[next] = new_cost  # Update cost\n",
    "                priority = new_cost + calculateHeuristicCost(next, goal_pos)\n",
    "                frontier.put((priority, next))  # Push to the queue\n",
    "                came_from[next] = current  # Track the path\n",
    "\n",
    "    return came_from, cost_so_far\n"
   ]
  }
 ],
 "metadata": {
  "kernelspec": {
   "display_name": "Python 3 (ipykernel)",
   "language": "python",
   "name": "python3"
  },
  "language_info": {
   "codemirror_mode": {
    "name": "ipython",
    "version": 3
   },
   "file_extension": ".py",
   "mimetype": "text/x-python",
   "name": "python",
   "nbconvert_exporter": "python",
   "pygments_lexer": "ipython3",
   "version": "3.12.3"
  }
 },
 "nbformat": 4,
 "nbformat_minor": 5
}
