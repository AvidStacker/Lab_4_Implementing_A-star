{
 "cells": [
  {
   "cell_type": "code",
   "execution_count": 233,
   "id": "0cc80276-890c-4181-a6e9-c95144b306c9",
   "metadata": {},
   "outputs": [],
   "source": [
    "from pandas import *\n",
    "import numpy\n",
    "import matplotlib.pyplot as plt\n",
    "from random import shuffle  # Import shuffle"
   ]
  },
  {
   "cell_type": "code",
   "execution_count": 234,
   "id": "12102840-531e-40c4-a071-c43d11e73f85",
   "metadata": {},
   "outputs": [
    {
     "name": "stdout",
     "output_type": "stream",
     "text": [
      "(17, 17)\n",
      "[[1 1 1 1 1 1 1 1 1 1 1 1 1 1 1 1 1]\n",
      " [1 0 0 0 0 0 1 0 0 0 0 0 0 0 0 0 1]\n",
      " [1 0 1 1 1 0 1 1 1 1 1 1 1 1 1 0 1]\n",
      " [1 0 1 0 1 0 1 0 0 0 0 0 0 0 0 0 1]\n",
      " [1 0 1 0 1 0 1 0 1 1 1 1 1 1 1 0 1]\n",
      " [1 0 1 0 0 0 1 0 0 0 1 0 0 0 1 0 1]\n",
      " [1 0 1 0 1 1 1 1 1 0 1 0 1 0 1 0 1]\n",
      " [1 0 1 0 0 0 1 0 0 0 1 0 1 0 1 0 1]\n",
      " [1 0 1 1 1 0 1 0 1 1 1 0 1 0 1 0 1]\n",
      " [1 0 0 0 1 0 0 0 1 0 0 0 1 0 1 0 1]\n",
      " [1 0 1 0 1 1 1 1 1 0 1 1 1 0 1 0 1]\n",
      " [1 0 1 0 0 0 1 0 0 0 0 0 1 0 0 0 1]\n",
      " [1 0 1 1 1 0 1 1 1 1 1 0 1 1 1 1 1]\n",
      " [1 0 1 0 1 0 0 0 0 0 1 0 1 0 0 0 1]\n",
      " [1 0 1 0 1 1 1 1 1 0 1 0 1 0 1 0 1]\n",
      " [1 0 0 0 0 0 1 0 0 0 1 0 0 0 1 0 1]\n",
      " [1 1 1 1 1 1 1 1 1 1 1 1 1 1 1 1 1]]\n"
     ]
    },
    {
     "data": {
      "image/png": "[encoded data removed]",
      "text/plain": [
       "<Figure size 640x480 with 1 Axes>"
      ]
     },
     "metadata": {},
     "output_type": "display_data"
    }
   ],
   "source": [
    "def make_maze(w, h):\n",
    "    vis = [[0] * w + [1] for _ in range(h)] + [[1] * (w + 1)]\n",
    "    ver = [[\"10\"] * w + ['1'] for _ in range(h)] + [[]]\n",
    "    hor = [[\"11\"] * w + ['1'] for _ in range(h + 1)]\n",
    "\n",
    "    def walk(x, y):\n",
    "        vis[y][x] = 1\n",
    "\n",
    "        d = [(x - 1, y), (x, y + 1), (x + 1, y), (x, y - 1)]\n",
    "        shuffle(d)\n",
    "        for (xx, yy) in d:\n",
    "            if vis[yy][xx]: continue\n",
    "            if xx == x: hor[max(y, yy)][x] = \"10\"\n",
    "            if yy == y: ver[y][max(x, xx)] = \"00\"\n",
    "            walk(xx, yy)\n",
    "\n",
    "    walk(numpy.random.randint(w), numpy.random.randint(h))\n",
    "\n",
    "    s = \"\"\n",
    "    for (a, b) in zip(hor, ver):\n",
    "        s += ''.join(a + ['\\n'] + b + ['\\n'])\n",
    "\n",
    "    M=[]\n",
    "    for line in s.split(\"\\n\"):\n",
    "        if line!=\"\":\n",
    "            R=[]\n",
    "            for e in line:\n",
    "                R.append(int(e))\n",
    "            M.append(R)\n",
    "    return M\n",
    "\n",
    "maze=numpy.array(make_maze(8,8))\n",
    "plt.imshow(maze)\n",
    "\n",
    "print(maze.shape)\n",
    "print(maze)"
   ]
  },
  {
   "cell_type": "code",
   "execution_count": 235,
   "id": "463f3dfb-1f7f-47eb-8426-23ad7e6a0509",
   "metadata": {},
   "outputs": [],
   "source": [
    "#maze\n",
    "startLocation=[1,1]\n",
    "targetLocation=[15,15]"
   ]
  },
  {
   "cell_type": "code",
   "execution_count": 236,
   "id": "90fc2fd2-b47f-49d2-85ee-88f773bc9a7b",
   "metadata": {},
   "outputs": [
    {
     "data": {
      "text/plain": [
       "0"
      ]
     },
     "execution_count": 236,
     "metadata": {},
     "output_type": "execute_result"
    }
   ],
   "source": [
    "maze[1][1]"
   ]
  },
  {
   "cell_type": "code",
   "execution_count": 237,
   "id": "f5a599a8-c1c0-4f4c-89f2-10a66d9e021f",
   "metadata": {},
   "outputs": [
    {
     "data": {
      "text/plain": [
       "0"
      ]
     },
     "execution_count": 237,
     "metadata": {},
     "output_type": "execute_result"
    }
   ],
   "source": [
    "maze[15][15] ## Should always output 0 otherwise maze is unsolvable"
   ]
  },
  {
   "cell_type": "code",
   "execution_count": 238,
   "id": "d181adbf-890a-4655-8552-2f956fa389e4",
   "metadata": {},
   "outputs": [],
   "source": [
    "def getNeighbors(current, grid):\n",
    "    x, y = current\n",
    "    neighbors = []\n",
    "    xm = [0, 1, 0, -1]  # Directions: Right, Down, Left, Up\n",
    "    ym = [1, 0, -1, 0]\n",
    "\n",
    "    for i in range(4):\n",
    "        nx, ny = x + xm[i], y + ym[i]\n",
    "\n",
    "        # Check if the neighbor is within bounds and is a walkable cell (1)\n",
    "        if 0 <= nx < len(grid) and 0 <= ny < len(grid[0]) and grid[nx][ny] == 0:\n",
    "            neighbors.append((nx, ny))  # Use tuples instead of lists\n",
    "\n",
    "    return neighbors\n"
   ]
  },
  {
   "cell_type": "code",
   "execution_count": 239,
   "id": "d70fb158-5634-4e86-b94f-5fdc53490140",
   "metadata": {},
   "outputs": [],
   "source": [
    "def calculateActualCost(current_node, neighbor_node):\n",
    "    return 1  # Uniform movement cost"
   ]
  },
  {
   "cell_type": "code",
   "execution_count": 240,
   "id": "8b917213-49a8-4bbc-85a9-9314cee38860",
   "metadata": {},
   "outputs": [],
   "source": [
    "def calculateHeuristicCost(current_node, goal_node):\n",
    "    x1, y1 = current_node\n",
    "    x2, y2 = goal_node\n",
    "    return abs(x1 - x2) + abs(y1 - y2)\n",
    "    "
   ]
  },
  {
   "cell_type": "code",
   "execution_count": 241,
   "id": "0d0a39c9-64bb-4c28-a5d3-4bb8fa883760",
   "metadata": {},
   "outputs": [],
   "source": [
    "from queue import PriorityQueue\n",
    "\n",
    "def a_star_search(grid, start_pos, goal_pos):\n",
    "    \"\"\"\n",
    "    Perform A* search on a grid.\n",
    "    \n",
    "    Args:\n",
    "        grid: 2D list representing the maze. 0 = pathway (walkable), 1 = wall.\n",
    "        start_pos: Tuple (x, y) for the start position.\n",
    "        goal_pos: Tuple (x, y) for the goal position.\n",
    "        \n",
    "    Returns:\n",
    "        A tuple (came_from, cost_so_far) where:\n",
    "            - came_from: Dictionary tracking the path.\n",
    "            - cost_so_far: Dictionary of costs to reach each node.\n",
    "    \"\"\"\n",
    "    # Initialize priority queue, path tracking, and costs\n",
    "    frontier = PriorityQueue()\n",
    "    frontier.put((0, start_pos))  # (priority, node)\n",
    "    came_from = {start_pos: None}\n",
    "    cost_so_far = {start_pos: 0}\n",
    "\n",
    "    while not frontier.empty():\n",
    "        # Get the node with the lowest priority (i.e., lowest f-cost)\n",
    "        _, current = frontier.get()\n",
    "\n",
    "        # Stop if we reached the goal\n",
    "        if current == goal_pos:\n",
    "            break\n",
    "\n",
    "        # Explore neighbors\n",
    "        for next in getNeighbors(current, grid):\n",
    "            # Calculate new cost to reach this neighbor\n",
    "            new_cost = cost_so_far[current] + calculateActualCost(current, next)\n",
    "\n",
    "            # If this neighbor hasn't been visited or if we found a cheaper path to it\n",
    "            if next not in cost_so_far or new_cost < cost_so_far[next]:\n",
    "                cost_so_far[next] = new_cost  # Update cost\n",
    "                priority = new_cost + calculateHeuristicCost(next, goal_pos)  # f-cost = g + h\n",
    "                frontier.put((priority, next))  # Add to the priority queue\n",
    "                came_from[next] = current  # Track the path\n",
    "\n",
    "    return came_from, cost_so_far"
   ]
  },
  {
   "cell_type": "code",
   "execution_count": 242,
   "id": "952fe1e3-c345-411a-8b3e-f124b4751191",
   "metadata": {},
   "outputs": [
    {
     "name": "stdout",
     "output_type": "stream",
     "text": [
      "Came from: {(1, 1): None, (1, 2): (1, 1), (2, 1): (1, 1), (1, 3): (1, 2), (1, 4): (1, 3), (1, 5): (1, 4), (2, 5): (1, 5), (3, 1): (2, 1), (3, 5): (2, 5), (4, 1): (3, 1), (4, 5): (3, 5), (5, 1): (4, 1), (5, 5): (4, 5), (6, 1): (5, 1), (5, 4): (5, 5), (7, 1): (6, 1), (8, 1): (7, 1), (9, 1): (8, 1), (9, 2): (9, 1), (10, 1): (9, 1), (9, 3): (9, 2), (10, 3): (9, 3), (11, 1): (10, 1), (11, 3): (10, 3), (12, 1): (11, 1), (11, 4): (11, 3), (11, 5): (11, 4), (12, 5): (11, 5), (13, 1): (12, 1), (13, 5): (12, 5), (14, 1): (13, 1), (13, 6): (13, 5), (13, 7): (13, 6), (13, 8): (13, 7), (13, 9): (13, 8), (14, 9): (13, 9), (15, 1): (14, 1), (15, 9): (14, 9), (15, 2): (15, 1), (15, 3): (15, 2), (15, 4): (15, 3), (14, 3): (15, 3), (15, 5): (15, 4), (15, 8): (15, 9), (5, 3): (5, 4), (13, 3): (14, 3), (15, 7): (15, 8), (6, 3): (5, 3), (4, 3): (5, 3), (7, 3): (6, 3), (7, 4): (7, 3), (7, 5): (7, 4), (8, 5): (7, 5), (9, 5): (8, 5), (9, 6): (9, 5), (9, 7): (9, 6), (8, 7): (9, 7), (3, 3): (4, 3), (7, 7): (8, 7), (7, 8): (7, 7), (7, 9): (7, 8), (6, 9): (7, 9), (5, 9): (6, 9), (5, 8): (5, 9), (5, 7): (5, 8), (4, 7): (5, 7), (3, 7): (4, 7), (3, 8): (3, 7), (3, 9): (3, 8), (3, 10): (3, 9), (3, 11): (3, 10), (3, 12): (3, 11), (3, 13): (3, 12), (3, 14): (3, 13), (3, 15): (3, 14), (4, 15): (3, 15), (2, 15): (3, 15), (5, 15): (4, 15), (6, 15): (5, 15), (7, 15): (6, 15), (8, 15): (7, 15), (9, 15): (8, 15), (10, 15): (9, 15), (11, 15): (10, 15), (11, 14): (11, 15), (1, 15): (2, 15), (11, 13): (11, 14), (1, 14): (1, 15), (10, 13): (11, 13), (1, 13): (1, 14), (9, 13): (10, 13), (1, 12): (1, 13), (8, 13): (9, 13), (1, 11): (1, 12), (7, 13): (8, 13), (1, 10): (1, 11), (6, 13): (7, 13), (1, 9): (1, 10), (5, 13): (6, 13), (1, 8): (1, 9), (5, 12): (5, 13), (1, 7): (1, 8), (5, 11): (5, 12), (6, 11): (5, 11), (7, 11): (6, 11), (8, 11): (7, 11), (9, 11): (8, 11), (9, 10): (9, 11), (9, 9): (9, 10), (10, 9): (9, 9), (11, 9): (10, 9), (11, 10): (11, 9), (11, 8): (11, 9), (11, 11): (11, 10), (12, 11): (11, 11), (13, 11): (12, 11), (14, 11): (13, 11), (15, 11): (14, 11), (15, 12): (15, 11), (15, 13): (15, 12), (14, 13): (15, 13), (11, 7): (11, 8), (13, 13): (14, 13), (13, 14): (13, 13), (13, 15): (13, 14), (14, 15): (13, 15), (15, 15): (14, 15)}\n",
      "Cost so far: {(1, 1): 0, (1, 2): 1, (2, 1): 1, (1, 3): 2, (1, 4): 3, (1, 5): 4, (2, 5): 5, (3, 1): 2, (3, 5): 6, (4, 1): 3, (4, 5): 7, (5, 1): 4, (5, 5): 8, (6, 1): 5, (5, 4): 9, (7, 1): 6, (8, 1): 7, (9, 1): 8, (9, 2): 9, (10, 1): 9, (9, 3): 10, (10, 3): 11, (11, 1): 10, (11, 3): 12, (12, 1): 11, (11, 4): 13, (11, 5): 14, (12, 5): 15, (13, 1): 12, (13, 5): 16, (14, 1): 13, (13, 6): 17, (13, 7): 18, (13, 8): 19, (13, 9): 20, (14, 9): 21, (15, 1): 14, (15, 9): 22, (15, 2): 15, (15, 3): 16, (15, 4): 17, (14, 3): 17, (15, 5): 18, (15, 8): 23, (5, 3): 10, (13, 3): 18, (15, 7): 24, (6, 3): 11, (4, 3): 11, (7, 3): 12, (7, 4): 13, (7, 5): 14, (8, 5): 15, (9, 5): 16, (9, 6): 17, (9, 7): 18, (8, 7): 19, (3, 3): 12, (7, 7): 20, (7, 8): 21, (7, 9): 22, (6, 9): 23, (5, 9): 24, (5, 8): 25, (5, 7): 26, (4, 7): 27, (3, 7): 28, (3, 8): 29, (3, 9): 30, (3, 10): 31, (3, 11): 32, (3, 12): 33, (3, 13): 34, (3, 14): 35, (3, 15): 36, (4, 15): 37, (2, 15): 37, (5, 15): 38, (6, 15): 39, (7, 15): 40, (8, 15): 41, (9, 15): 42, (10, 15): 43, (11, 15): 44, (11, 14): 45, (1, 15): 38, (11, 13): 46, (1, 14): 39, (10, 13): 47, (1, 13): 40, (9, 13): 48, (1, 12): 41, (8, 13): 49, (1, 11): 42, (7, 13): 50, (1, 10): 43, (6, 13): 51, (1, 9): 44, (5, 13): 52, (1, 8): 45, (5, 12): 53, (1, 7): 46, (5, 11): 54, (6, 11): 55, (7, 11): 56, (8, 11): 57, (9, 11): 58, (9, 10): 59, (9, 9): 60, (10, 9): 61, (11, 9): 62, (11, 10): 63, (11, 8): 63, (11, 11): 64, (12, 11): 65, (13, 11): 66, (14, 11): 67, (15, 11): 68, (15, 12): 69, (15, 13): 70, (14, 13): 71, (11, 7): 64, (13, 13): 72, (13, 14): 73, (13, 15): 74, (14, 15): 75, (15, 15): 76}\n"
     ]
    }
   ],
   "source": [
    "grid = maze\n",
    "start_pos = (1,1)\n",
    "goal_pos = (15,15)\n",
    "came_from, cost_so_far = a_star_search(maze, start_pos, goal_pos)\n",
    "\n",
    "print(f\"Came from: {came_from}\")\n",
    "print(f\"Cost so far: {cost_so_far}\")"
   ]
  },
  {
   "cell_type": "code",
   "execution_count": 243,
   "id": "ce453d36-dd39-446a-b607-37a506148ac4",
   "metadata": {},
   "outputs": [],
   "source": [
    "def visualize_maze_with_path(maze, path):\n",
    "    plt.figure(figsize=(8, 8))\n",
    "    plt.imshow(maze, cmap=\"gray_r\")\n",
    "\n",
    "    # Extract x and y coordinates for the path\n",
    "    y_coords, x_coords = zip(*path)\n",
    "\n",
    "    # Plot the path as red dots\n",
    "    plt.scatter(x_coords, y_coords, color=\"red\", label=\"Path\", zorder=5)\n",
    "    plt.legend()\n",
    "    plt.title(\"A* Search Path\")\n",
    "    plt.show()"
   ]
  },
  {
   "cell_type": "code",
   "execution_count": 244,
   "id": "beaa1ba4-8120-49dc-8002-6538dd497ab8",
   "metadata": {},
   "outputs": [
    {
     "data": {
      "image/png": "[encoded data removed]",
      "text/plain": [
       "<Figure size 800x800 with 1 Axes>"
      ]
     },
     "metadata": {},
     "output_type": "display_data"
    }
   ],
   "source": [
    "# Reconstruct the path from start to goal\n",
    "path = []\n",
    "current = goal_pos\n",
    "while current:\n",
    "    path.append(current)\n",
    "    current = came_from[current]\n",
    "path.reverse()\n",
    "\n",
    "# Visualize the maze with the path\n",
    "visualize_maze_with_path(maze, path)"
   ]
  }
 ],
 "metadata": {
  "kernelspec": {
   "display_name": "Python 3 (ipykernel)",
   "language": "python",
   "name": "python3"
  },
  "language_info": {
   "codemirror_mode": {
    "name": "ipython",
    "version": 3
   },
   "file_extension": ".py",
   "mimetype": "text/x-python",
   "name": "python",
   "nbconvert_exporter": "python",
   "pygments_lexer": "ipython3",
   "version": "3.12.3"
  }
 },
 "nbformat": 4,
 "nbformat_minor": 5
}
